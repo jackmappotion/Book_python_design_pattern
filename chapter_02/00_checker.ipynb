{
 "cells": [
  {
   "cell_type": "code",
   "execution_count": null,
   "metadata": {},
   "outputs": [],
   "source": [
    "# Singleton pattern\n",
    "\"\"\"\n",
    "싱글톤 패턴은 클래스의 인스턴스가 하나만 생성되는 것을 보장하며,\n",
    "이 인스턴스에 접근할 수 있는 전역적인 접촉점을 제공하는 패턴입니다.\n",
    "\n",
    "싱글톤 패턴의 구성요소\n",
    "\n",
    "\"\"\"\n"
   ]
  },
  {
   "cell_type": "code",
   "execution_count": 3,
   "metadata": {},
   "outputs": [
    {
     "name": "stdout",
     "output_type": "stream",
     "text": [
      "s1 Object created <__main__.Singleton object at 0x106572380>\n",
      "s2 Object created <__main__.Singleton object at 0x106572380>\n",
      "s3 Object created <__main__.Singleton object at 0x106572380>\n"
     ]
    }
   ],
   "source": [
    "class Singleton(object):\n",
    "    def __new__(cls):\n",
    "        if not hasattr(cls, \"instance\"):\n",
    "            cls.instance = super(Singleton, cls).__new__(cls)\n",
    "        return cls.instance\n",
    "\n",
    "\n",
    "s1 = Singleton()\n",
    "print(\"s1 Object created\", s1)\n",
    "\n",
    "s2 = Singleton()\n",
    "print(\"s2 Object created\", s2)\n",
    "\n",
    "s3 = Singleton()\n",
    "print(\"s3 Object created\", s3)"
   ]
  },
  {
   "cell_type": "code",
   "execution_count": 56,
   "metadata": {},
   "outputs": [
    {
     "name": "stdout",
     "output_type": "stream",
     "text": [
      "s1 :  <__main__.MonoStateSingleton object at 0x106af3850>\n",
      "s2 :  <__main__.MonoStateSingleton object at 0x106af1060>\n",
      "============================================================\n",
      "s1 args : {'shared_int': 1, 'shared_list': [1], 'shared_dict': {'key': 'value'}}\n",
      "s2 args : {'shared_int': 1, 'shared_list': [1], 'shared_dict': {'key': 'value'}}\n"
     ]
    }
   ],
   "source": [
    "class MonoStateSingleton(object):\n",
    "    __shared_state = {\"shared_int\": 0, \"shared_list\": [], \"shared_dict\": {}}\n",
    "\n",
    "    def __init__(self):\n",
    "        self.__dict__ = self.__class__.__shared_state\n",
    "\n",
    "\n",
    "s1 = MonoStateSingleton()\n",
    "s1.__dict__[\"shared_int\"] += 1\n",
    "s1.__dict__[\"shared_list\"].append(s1.__dict__[\"shared_int\"])\n",
    "s1.__dict__[\"shared_dict\"][\"key\"] = \"value\"\n",
    "\n",
    "s2 = MonoStateSingleton()\n",
    "\n",
    "print(\"s1 : \", s1)\n",
    "print(\"s2 : \", s2)\n",
    "print(\"==\" * 30)\n",
    "\n",
    "print(\"s1 args :\", s1.__dict__)\n",
    "print(\"s2 args :\", s2.__dict__)"
   ]
  },
  {
   "cell_type": "code",
   "execution_count": 63,
   "metadata": {},
   "outputs": [
    {
     "name": "stdout",
     "output_type": "stream",
     "text": [
      "\t <__main__.Logger object at 0x106b29c00> \n",
      "\t <__main__.Logger object at 0x106b29c00>\n"
     ]
    }
   ],
   "source": [
    "class MetaSingleton(type):\n",
    "    _instances = {}\n",
    "\n",
    "    def __call__(cls, *args, **kwargs):\n",
    "        if cls not in cls._instances:\n",
    "            cls._instances[cls] = super(MetaSingleton, cls).__call__(\n",
    "                *args, **kwargs\n",
    "            )\n",
    "        return cls._instances[cls]\n",
    "\n",
    "\n",
    "class Logger(metaclass=MetaSingleton):\n",
    "    pass\n",
    "\n",
    "\n",
    "logger1 = Logger()\n",
    "logger2 = Logger()\n",
    "print(\"\\t\", logger1, \"\\n\\t\", logger2)"
   ]
  },
  {
   "cell_type": "code",
   "execution_count": null,
   "metadata": {},
   "outputs": [],
   "source": []
  }
 ],
 "metadata": {
  "kernelspec": {
   "display_name": "quant_trading",
   "language": "python",
   "name": "python3"
  },
  "language_info": {
   "codemirror_mode": {
    "name": "ipython",
    "version": 3
   },
   "file_extension": ".py",
   "mimetype": "text/x-python",
   "name": "python",
   "nbconvert_exporter": "python",
   "pygments_lexer": "ipython3",
   "version": "3.10.13"
  }
 },
 "nbformat": 4,
 "nbformat_minor": 2
}
