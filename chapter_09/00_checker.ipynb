{
 "cells": [
  {
   "cell_type": "code",
   "execution_count": null,
   "metadata": {},
   "outputs": [],
   "source": [
    "# Model View Controller (MVC) pattern\n",
    "\"\"\"\n",
    "MVC 패턴은 소프트웨어 공학에서 사용되는 소프트웨어 디자인 패턴이다.\n",
    "\n",
    "MVC 구성요소\n",
    "Model : 데이터를 처리하는 부분\n",
    "View : 사용자에게 보여지는 부분\n",
    "Controller : Model과 View를 연결하는 부분\n",
    "\"\"\""
   ]
  },
  {
   "cell_type": "code",
   "execution_count": 1,
   "metadata": {},
   "outputs": [
    {
     "name": "stdout",
     "output_type": "stream",
     "text": [
      "Services Provided:\n",
      "email  \n",
      "sms  \n",
      "voice  \n",
      "Pricing for Services:\n",
      "For 1000 email message you pay $ 2\n",
      "For 1000 sms message you pay $ 10\n",
      "For 1000 voice message you pay $ 15\n"
     ]
    }
   ],
   "source": [
    "class Model(object):\n",
    "    services = {\n",
    "        'email': {'number': 1000, 'price': 2},\n",
    "        'sms': {'number': 1000, 'price': 10},\n",
    "        'voice': {'number': 1000, 'price': 15},\n",
    "    }\n",
    "\n",
    "class View(object):\n",
    "    def list_services(self, services):\n",
    "        for svc in services:\n",
    "            print(svc, ' ')\n",
    "\n",
    "    def list_pricing(self, services):\n",
    "        for svc in services:\n",
    "            print(\"For\", Model.services[svc]['number'],\n",
    "                  svc, \"message you pay $\",\n",
    "                  Model.services[svc]['price'])\n",
    "\n",
    "class Controller(object):\n",
    "    def __init__(self):\n",
    "        self.model = Model()\n",
    "        self.view = View()\n",
    "\n",
    "    def get_services(self):\n",
    "        services = self.model.services.keys()\n",
    "        return(self.view.list_services(services))\n",
    "\n",
    "    def get_pricing(self):\n",
    "        services = self.model.services.keys()\n",
    "        return(self.view.list_pricing(services))\n",
    "\n",
    "class Client(object):\n",
    "    controller = Controller()\n",
    "    print(\"Services Provided:\")\n",
    "    controller.get_services()\n",
    "    print(\"Pricing for Services:\")\n",
    "    controller.get_pricing()\n",
    "    \n"
   ]
  },
  {
   "cell_type": "code",
   "execution_count": null,
   "metadata": {},
   "outputs": [],
   "source": [
    "class Model(object):\n",
    "    def logic(self):\n",
    "        data = 'Got it!'\n",
    "        print(\"Model: Crunching data as per business logic\")\n",
    "        return data\n",
    "\n",
    "class View(object):\n",
    "    def update(self, data):\n",
    "        print(\"View: Updating the view with results:\", data)\n",
    "\n",
    "class Controller(object):\n",
    "    def __init__(self):\n",
    "        self.model = Model()\n",
    "        self.view = View()\n",
    "\n",
    "    def interface(self):\n",
    "        print(\"Controller: Relayed the Client asks\")\n",
    "        data = self.model.logic()\n",
    "        self.view.update(data)\n",
    "\n",
    "class Client(object):\n",
    "    print(\"Client: asks for certain information\")\n",
    "    controller = Controller()\n",
    "    controller.interface()\n",
    "\n"
   ]
  },
  {
   "cell_type": "code",
   "execution_count": null,
   "metadata": {},
   "outputs": [],
   "source": []
  }
 ],
 "metadata": {
  "kernelspec": {
   "display_name": "quant_trading",
   "language": "python",
   "name": "python3"
  },
  "language_info": {
   "codemirror_mode": {
    "name": "ipython",
    "version": 3
   },
   "file_extension": ".py",
   "mimetype": "text/x-python",
   "name": "python",
   "nbconvert_exporter": "python",
   "pygments_lexer": "ipython3",
   "version": "3.10.13"
  }
 },
 "nbformat": 4,
 "nbformat_minor": 2
}
