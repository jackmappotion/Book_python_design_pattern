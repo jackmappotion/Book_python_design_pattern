{
 "cells": [
  {
   "cell_type": "code",
   "execution_count": null,
   "metadata": {},
   "outputs": [],
   "source": [
    "# Proxy pattern\n",
    "\"\"\"\n",
    "프록시 패턴은 객체에 대한 접근을 제어하기 위한 용도로 대리인이나 대변인에 해당하는 객체를 제공하는 패턴이다.\n",
    "프록시는 클라이언트가 서비스를 사용할 수 있도록 중간에 대리인 역할을 수행하며, 실제 서비스 객체의 메서드를 호출하는 방식으로 동작한다.\n",
    "프록시는 실제 서비스 객체와 같은 인터페이스를 제공하여 클라이언트의 코드가 변경 없이도 프록시를 사용할 수 있도록 해준다.\n",
    "\n",
    "프록시 : 요청자와 공급자 사이의 중재자\n",
    "프록시 패턴의 구성요소\n",
    "    - Subject : 실제 서비스의 객체와 프록시 객체가 구현해야 하는 인터페이스\n",
    "    - RealSubject : 실제 서비스를 제공하는 객체\n",
    "    - Proxy : 프록시 객체\n",
    "    \n",
    "\"\"\""
   ]
  },
  {
   "cell_type": "code",
   "execution_count": null,
   "metadata": {},
   "outputs": [],
   "source": [
    "class Actor(object):\n",
    "    def __init__(self):\n",
    "        self.isBusy = False\n",
    "\n",
    "    def occupied(self):\n",
    "        self.isBusy = True\n",
    "        print(type(self).__name__, \"is occupied with current movie\")\n",
    "\n",
    "    def available(self):\n",
    "        self.isBusy = False\n",
    "        print(type(self).__name__, \"is free for the movie\")\n",
    "\n",
    "    def getStatus(self):\n",
    "        return self.isBusy\n",
    "\n",
    "class Agent:\n",
    "    def __init__(self):\n",
    "        self.principal = None\n",
    "\n",
    "    def work(self):\n",
    "        self.actor = Actor()\n",
    "        if self.actor.getStatus():\n",
    "            self.actor.occupied()\n",
    "        else:\n",
    "            self.actor.available()\n",
    "    \n",
    "if __name__ == '__main__':\n",
    "    r = Agent()\n",
    "    r.work()\n",
    "    \n",
    "    "
   ]
  }
 ],
 "metadata": {
  "language_info": {
   "name": "python"
  }
 },
 "nbformat": 4,
 "nbformat_minor": 2
}
