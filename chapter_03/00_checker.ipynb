{
 "cells": [
  {
   "cell_type": "code",
   "execution_count": null,
   "metadata": {},
   "outputs": [],
   "source": [
    "# Factory Pattern\n",
    "\"\"\"\n",
    "팩토리 패턴은 객체를 생성하는 인터페이스를 정의하고, 인스턴스를 만드는 일을 서브클래스에게 위임하는 패턴이다.\n",
    "즉, 팩토리 패턴은 객체를 만드는 공장을 만드는 패턴이다.\n",
    "\n",
    "팩토리 패턴의 구성요소\n",
    "- Product: 팩토리 메서드로 생성될 객체의 공통 인터페이스\n",
    "- ConcreteProduct: Product 인터페이스를 구현하는 객체\n",
    "- Creator: 팩토리 메서드를 선언하는 클래스\n",
    "- ConcreteCreator: 팩토리 메서드를 구현하는 클래스\n",
    "\n",
    "\"\"\"\n"
   ]
  },
  {
   "cell_type": "code",
   "execution_count": 3,
   "metadata": {},
   "outputs": [
    {
     "name": "stdout",
     "output_type": "stream",
     "text": [
      "Bhow Bhow!!\n",
      "Meow Meow!!\n"
     ]
    }
   ],
   "source": [
    "from abc import ABCMeta, abstractmethod\n",
    "\n",
    "\n",
    "class Animal(metaclass=ABCMeta):\n",
    "    @abstractmethod\n",
    "    def do_say(self):\n",
    "        pass\n",
    "\n",
    "\n",
    "class Dog(Animal):\n",
    "    def do_say(self):\n",
    "        print(\"Bhow Bhow!!\")\n",
    "\n",
    "\n",
    "class Cat(Animal):\n",
    "    def do_say(self):\n",
    "        print(\"Meow Meow!!\")\n",
    "\n",
    "\n",
    "## forest factory 정의\n",
    "class ForestFactory(object):\n",
    "    def make_sound(self, object_type):\n",
    "        return eval(object_type)().do_say()\n",
    "\n",
    "ff = ForestFactory()\n",
    "\n",
    "ff.make_sound(\"Dog\")\n",
    "ff.make_sound(\"Cat\")"
   ]
  },
  {
   "cell_type": "code",
   "execution_count": 23,
   "metadata": {},
   "outputs": [
    {
     "name": "stdout",
     "output_type": "stream",
     "text": [
      "Creating Profile.. linkedin\n",
      "Profile has sections --\n",
      "<__main__.PersonalSection object at 0x1283a0a60>\n",
      "Personal Section\n",
      "<__main__.PatentSection object at 0x1284caf80>\n",
      "Patent Section\n",
      "<__main__.PublicationSection object at 0x1284cae60>\n",
      "Publication Section\n"
     ]
    }
   ],
   "source": [
    "from abc import ABCMeta, abstractmethod\n",
    "\n",
    "\n",
    "class Section(metaclass=ABCMeta):\n",
    "    @abstractmethod\n",
    "    def describe(self):\n",
    "        pass\n",
    "\n",
    "\n",
    "class PersonalSection(Section):\n",
    "    def describe(self):\n",
    "        print(\"Personal Section\")\n",
    "\n",
    "\n",
    "class AlbumSection(Section):\n",
    "    def describe(self):\n",
    "        print(\"Album Section\")\n",
    "\n",
    "\n",
    "class PatentSection(Section):\n",
    "    def describe(self):\n",
    "        print(\"Patent Section\")\n",
    "\n",
    "\n",
    "class PublicationSection(Section):\n",
    "    def describe(self):\n",
    "        print(\"Publication Section\")\n",
    "\n",
    "### \n",
    "\n",
    "class Profile(metaclass=ABCMeta):\n",
    "    def __init__(self):\n",
    "        self.sections = []\n",
    "        self.create_profile()\n",
    "\n",
    "    @abstractmethod\n",
    "    def create_profile(self):\n",
    "        pass\n",
    "\n",
    "    def get_sections(self):\n",
    "        return self.sections\n",
    "\n",
    "    def add_section(self, section):\n",
    "        self.sections.append(section)\n",
    "\n",
    "class linkedin(Profile):\n",
    "    def create_profile(self):\n",
    "        self.add_section(PersonalSection())\n",
    "        self.add_section(PatentSection())\n",
    "        self.add_section(PublicationSection())\n",
    "\n",
    "class facebook(Profile):\n",
    "    def create_profile(self):\n",
    "        self.add_section(PersonalSection())\n",
    "        self.add_section(AlbumSection())\n",
    "\n",
    "\n",
    "profile = eval('linkedin')()\n",
    "print(\"Creating Profile..\", type(profile).__name__)\n",
    "print(\"Profile has sections --\", )\n",
    "for section in profile.get_sections():\n",
    "    print(section)\n",
    "    section.describe()"
   ]
  },
  {
   "cell_type": "code",
   "execution_count": null,
   "metadata": {},
   "outputs": [],
   "source": []
  }
 ],
 "metadata": {
  "kernelspec": {
   "display_name": "quant_trading",
   "language": "python",
   "name": "python3"
  },
  "language_info": {
   "codemirror_mode": {
    "name": "ipython",
    "version": 3
   },
   "file_extension": ".py",
   "mimetype": "text/x-python",
   "name": "python",
   "nbconvert_exporter": "python",
   "pygments_lexer": "ipython3",
   "version": "3.10.13"
  }
 },
 "nbformat": 4,
 "nbformat_minor": 2
}
